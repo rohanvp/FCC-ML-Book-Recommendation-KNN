{
  "cells": [
    {
      "cell_type": "code",
      "execution_count": null,
      "metadata": {
        "id": "Y1onB6kUvo4Z"
      },
      "outputs": [],
      "source": [
        "# import libraries (you may add additional imports but you may not have to)\n",
        "import numpy as np\n",
        "import pandas as pd\n",
        "from scipy.sparse import csr_matrix\n",
        "from sklearn.neighbors import NearestNeighbors\n",
        "import matplotlib.pyplot as plt"
      ]
    },
    {
      "cell_type": "code",
      "execution_count": null,
      "metadata": {
        "id": "iAQGqqO_vo4d"
      },
      "outputs": [],
      "source": [
        "# get data files\n",
        "!wget https://cdn.freecodecamp.org/project-data/books/book-crossings.zip\n",
        "\n",
        "!unzip book-crossings.zip\n",
        "\n",
        "books_filename = 'BX-Books.csv'\n",
        "ratings_filename = 'BX-Book-Ratings.csv'"
      ]
    },
    {
      "cell_type": "code",
      "execution_count": null,
      "metadata": {
        "id": "NClILWOiEd6Q"
      },
      "outputs": [],
      "source": [
        "# import csv data into dataframes\n",
        "df_books = pd.read_csv(\n",
        "    books_filename,\n",
        "    encoding = \"ISO-8859-1\",\n",
        "    sep=\";\",\n",
        "    header=0,\n",
        "    names=['isbn', 'title', 'author'],\n",
        "    usecols=['isbn', 'title', 'author'],\n",
        "    dtype={'isbn': 'str', 'title': 'str', 'author': 'str'})\n",
        "\n",
        "df_ratings = pd.read_csv(\n",
        "    ratings_filename,\n",
        "    encoding = \"ISO-8859-1\",\n",
        "    sep=\";\",\n",
        "    header=0,\n",
        "    names=['user', 'isbn', 'rating'],\n",
        "    usecols=['user', 'isbn', 'rating'],\n",
        "    dtype={'user': 'int32', 'isbn': 'str', 'rating': 'float32'})\n",
        "\n",
        "# df_books=df_books.drop_duplicates(subset=['title'])\n",
        "# df_ratings=df_ratings.drop_duplicates(subset=['user','isbn'])"
      ]
    },
    {
      "cell_type": "code",
      "source": [],
      "metadata": {
        "id": "29g0tc6s2iH7"
      },
      "execution_count": null,
      "outputs": []
    },
    {
      "cell_type": "markdown",
      "source": [
        "# PREPROCESSING DATA"
      ],
      "metadata": {
        "id": "Xm508ZU7m4Cr"
      }
    },
    {
      "cell_type": "code",
      "execution_count": null,
      "metadata": {
        "id": "xAcXjkCFCh0A"
      },
      "outputs": [],
      "source": [
        "# select only those rows where each book has more than 100 ratings\n",
        "v1=df_ratings.isbn.value_counts()\n",
        "relevent_books=df_ratings[df_ratings.isbn.isin(v1[v1 >= 100].index)]\n",
        "relevent_books=df_books.loc[df_books['isbn'].isin(relevent_books['isbn'])]\n",
        "\n",
        "\n",
        "# select only those rows where each user has more than 200 ratings\n",
        "v2=df_ratings.user.value_counts()\n",
        "relevent_users=df_ratings[df_ratings.user.isin(v2[v2 >= 200].index)]\n",
        "relevent_users=relevent_users.loc[relevent_users['isbn'].isin(relevent_books['isbn'])]\n",
        "\n",
        "# using DataFrame.pivot as it can handle non-numerical data. no encoding needed for isbn\n",
        "pivoted_ratings=relevent_users.pivot(values='rating',index='isbn',columns='user').fillna(0)\n",
        "pivoted_ratings_csrmatrix=csr_matrix(pivoted_ratings)"
      ]
    },
    {
      "cell_type": "markdown",
      "source": [
        "# regular function"
      ],
      "metadata": {
        "id": "4MFit315MWwD"
      }
    },
    {
      "cell_type": "code",
      "execution_count": null,
      "metadata": {
        "id": "f5ZUd-L1SQz7"
      },
      "outputs": [],
      "source": [
        "# function to return recommended books - this will be tested\n",
        "def get_recommends(book = \"\"):\n",
        "\n",
        "  book_list=[]\n",
        "  recommended_books=[]\n",
        "  recommended_books.append(book)\n",
        "\n",
        "  if(book not in df_books['title'].values):\n",
        "    print(\"Book \"+\" not found!\")\n",
        "    return \"\"\n",
        "\n",
        "  req_isbn=df_books[(df_books['title'] == book)]\n",
        "  req_isbn=req_isbn.iloc[0].isbn\n",
        "\n",
        "  nbrs = NearestNeighbors(n_neighbors=6,metric='cosine').fit(pivoted_ratings_csrmatrix)\n",
        "  distance, indices = nbrs.kneighbors(pivoted_ratings_csrmatrix)\n",
        "\n",
        "  c=0\n",
        "  for i in pivoted_ratings.index:\n",
        "    if(i==req_isbn):\n",
        "      break\n",
        "    c+=1\n",
        "\n",
        "\n",
        "  isbn_list=[]\n",
        "  distance_list=[]\n",
        "\n",
        "  for i in range(len(indices[c])):\n",
        "    isbn_list.append(pivoted_ratings.iloc[indices[c][i]].name)\n",
        "    distance_list.append(distance[c][i])\n",
        "\n",
        "  isbn_list.pop(0)\n",
        "  distance_list.pop(0)\n",
        "\n",
        "  temp2=[]\n",
        "  for i in range(len(isbn_list)):\n",
        "    temp=[]\n",
        "    temp.append(df_books[df_books['isbn']==isbn_list[i]].title.item())\n",
        "    temp.append(distance_list[i])\n",
        "    temp2.append(temp)\n",
        "\n",
        "  temp2.reverse()\n",
        "  recommended_books.append(temp2)\n",
        "\n",
        "  return recommended_books"
      ]
    },
    {
      "cell_type": "code",
      "execution_count": null,
      "metadata": {
        "id": "jd2SLCh8oxMh",
        "colab": {
          "base_uri": "https://localhost:8080/"
        },
        "outputId": "b21ab2ec-3e5b-4990-d748-8cb2537fbb3c"
      },
      "outputs": [
        {
          "output_type": "stream",
          "name": "stdout",
          "text": [
            "[\"Where the Heart Is (Oprah's Book Club (Paperback))\", [[\"I'll Be Seeing You\", 0.8016211], ['The Weight of Water', 0.77085835], ['The Surgeon', 0.7699411], ['I Know This Much Is True', 0.7677075], ['The Lovely Bones: A Novel', 0.7234864]]]\n",
            "You passed the challenge! 🎉🎉🎉🎉🎉\n"
          ]
        }
      ],
      "source": [
        "books = get_recommends(\"Where the Heart Is (Oprah's Book Club (Paperback))\")\n",
        "print(books)\n",
        "\n",
        "def test_book_recommendation():\n",
        "  test_pass = True\n",
        "  recommends = get_recommends(\"Where the Heart Is (Oprah's Book Club (Paperback))\")\n",
        "  if recommends[0] != \"Where the Heart Is (Oprah's Book Club (Paperback))\":\n",
        "    test_pass = False\n",
        "  recommended_books = [\"I'll Be Seeing You\", 'The Weight of Water', 'The Surgeon', 'I Know This Much Is True']\n",
        "  recommended_books_dist = [0.8, 0.77, 0.77, 0.77]\n",
        "  for i in range(2):\n",
        "    if recommends[1][i][0] not in recommended_books:\n",
        "      test_pass = False\n",
        "    if abs(recommends[1][i][1] - recommended_books_dist[i]) >= 0.05:\n",
        "      test_pass = False\n",
        "  if test_pass:\n",
        "    print(\"You passed the challenge! 🎉🎉🎉🎉🎉\")\n",
        "  else:\n",
        "    print(\"You haven't passed yet. Keep trying!\")\n",
        "\n",
        "test_book_recommendation()"
      ]
    }
  ],
  "metadata": {
    "colab": {
      "provenance": [],
      "collapsed_sections": [
        "Qf7LOo6UnHfv"
      ],
      "gpuType": "T4"
    },
    "kernelspec": {
      "display_name": "Python 3",
      "name": "python3"
    },
    "language_info": {
      "codemirror_mode": {
        "name": "ipython",
        "version": 3
      },
      "file_extension": ".py",
      "mimetype": "text/x-python",
      "name": "python",
      "nbconvert_exporter": "python",
      "pygments_lexer": "ipython3",
      "version": "3.6.5"
    }
  },
  "nbformat": 4,
  "nbformat_minor": 0
}